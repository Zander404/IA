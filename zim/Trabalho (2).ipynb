{
 "cells": [
  {
   "cell_type": "markdown",
   "metadata": {},
   "source": [
    "# Data Set\n",
    "\n",
    "A relação da venda de produtos de uma loja, onde ele é representado pelos seguintes atributos:\n",
    "- TV: Orçamento disponível para promover via TV (em Milhões).\n",
    "- Radio: Orçamento disponível para promover via radio (em Milhões).\n",
    "- Social Media: Promoção via rede social (em Milhões).\n",
    "- Influencer: Se a pessoa que ira pomover é um:\n",
    "    - Mega: Mínimo 1 milhão de seguidores\n",
    "    - Macro: 500 mil a 1 milhão de seguidores\n",
    "    - Micro: 10 mil a 500 mil seguidores\n",
    "    - Nano: 1 mil e 10 mil seguidores \n",
    "- Sales: Ganho bruto (em Milhões). **Atributo Dependente**"
   ]
  },
  {
   "cell_type": "markdown",
   "metadata": {},
   "source": [
    "## Como os dados estão clusterizados\n",
    "\n",
    "Os dados estão relacionados atráves do Orçamento gasto no Marketing na TV, RADIO e SOCIAL_MEDIA em relação ao aumento de Sales da Loja. Onde o investimento no Marketing afeta diretamente no Sales da Loja. \n"
   ]
  },
  {
   "cell_type": "code",
   "execution_count": 2,
   "metadata": {},
   "outputs": [],
   "source": [
    "# Importando o dataset\n",
    "import pandas as pd\n",
    "import numpy as np\n",
    "import seaborn as sn\n",
    "import matplotlib.pyplot as plt\n",
    "\n",
    "dataset = pd.read_csv(\"Marketing_and_Sales.csv\")"
   ]
  },
  {
   "cell_type": "markdown",
   "metadata": {},
   "source": [
    "# Tratando os dados\n"
   ]
  },
  {
   "cell_type": "code",
   "execution_count": 3,
   "metadata": {},
   "outputs": [
    {
     "data": {
      "text/plain": [
       "TV              10\n",
       "Radio            4\n",
       "Social Media     6\n",
       "Influencer       0\n",
       "Sales            6\n",
       "dtype: int64"
      ]
     },
     "execution_count": 3,
     "metadata": {},
     "output_type": "execute_result"
    }
   ],
   "source": [
    "# Vendo a ocorrencia de NULL em todas as features do dataset\n",
    "dataset.isna().sum()"
   ]
  },
  {
   "cell_type": "code",
   "execution_count": 4,
   "metadata": {},
   "outputs": [
    {
     "data": {
      "text/plain": [
       "TV              0\n",
       "Radio           0\n",
       "Social Media    0\n",
       "Influencer      0\n",
       "Sales           6\n",
       "dtype: int64"
      ]
     },
     "execution_count": 4,
     "metadata": {},
     "output_type": "execute_result"
    }
   ],
   "source": [
    "# Tratando os campos nulos da Tabela\n",
    "\n",
    "dataset.isna().sum()\n",
    "\n",
    "dataset[\"TV\"].fillna(dataset[\"TV\"].median(), inplace=True)\n",
    "dataset[\"Social Media\"].fillna(dataset[\"Social Media\"].median(), inplace=True)\n",
    "dataset[\"Radio\"].fillna(dataset[\"Radio\"].median(), inplace=True)\n",
    "\n",
    "\n",
    "dataset.isna().sum()\n"
   ]
  },
  {
   "cell_type": "code",
   "execution_count": 5,
   "metadata": {},
   "outputs": [
    {
     "data": {
      "text/html": [
       "<div>\n",
       "<style scoped>\n",
       "    .dataframe tbody tr th:only-of-type {\n",
       "        vertical-align: middle;\n",
       "    }\n",
       "\n",
       "    .dataframe tbody tr th {\n",
       "        vertical-align: top;\n",
       "    }\n",
       "\n",
       "    .dataframe thead th {\n",
       "        text-align: right;\n",
       "    }\n",
       "</style>\n",
       "<table border=\"1\" class=\"dataframe\">\n",
       "  <thead>\n",
       "    <tr style=\"text-align: right;\">\n",
       "      <th></th>\n",
       "      <th>TV</th>\n",
       "      <th>Radio</th>\n",
       "      <th>Social Media</th>\n",
       "      <th>Influencer</th>\n",
       "      <th>Sales</th>\n",
       "    </tr>\n",
       "  </thead>\n",
       "  <tbody>\n",
       "    <tr>\n",
       "      <th>0</th>\n",
       "      <td>16.0</td>\n",
       "      <td>6.566231</td>\n",
       "      <td>2.907983</td>\n",
       "      <td>Mega</td>\n",
       "      <td>54.732757</td>\n",
       "    </tr>\n",
       "    <tr>\n",
       "      <th>1</th>\n",
       "      <td>13.0</td>\n",
       "      <td>9.237765</td>\n",
       "      <td>2.409567</td>\n",
       "      <td>Mega</td>\n",
       "      <td>46.677897</td>\n",
       "    </tr>\n",
       "    <tr>\n",
       "      <th>2</th>\n",
       "      <td>41.0</td>\n",
       "      <td>15.886446</td>\n",
       "      <td>2.913410</td>\n",
       "      <td>Mega</td>\n",
       "      <td>150.177829</td>\n",
       "    </tr>\n",
       "    <tr>\n",
       "      <th>3</th>\n",
       "      <td>83.0</td>\n",
       "      <td>30.020028</td>\n",
       "      <td>6.922304</td>\n",
       "      <td>Mega</td>\n",
       "      <td>298.246340</td>\n",
       "    </tr>\n",
       "    <tr>\n",
       "      <th>4</th>\n",
       "      <td>15.0</td>\n",
       "      <td>8.437408</td>\n",
       "      <td>1.405998</td>\n",
       "      <td>Micro</td>\n",
       "      <td>56.594181</td>\n",
       "    </tr>\n",
       "  </tbody>\n",
       "</table>\n",
       "</div>"
      ],
      "text/plain": [
       "     TV      Radio  Social Media Influencer       Sales\n",
       "0  16.0   6.566231      2.907983       Mega   54.732757\n",
       "1  13.0   9.237765      2.409567       Mega   46.677897\n",
       "2  41.0  15.886446      2.913410       Mega  150.177829\n",
       "3  83.0  30.020028      6.922304       Mega  298.246340\n",
       "4  15.0   8.437408      1.405998      Micro   56.594181"
      ]
     },
     "execution_count": 5,
     "metadata": {},
     "output_type": "execute_result"
    }
   ],
   "source": [
    "# Cell para olhar as features da tabela \n",
    "dataset.head()"
   ]
  },
  {
   "cell_type": "code",
   "execution_count": 6,
   "metadata": {},
   "outputs": [],
   "source": [
    "# Pegar os atributos do database e Remover o atributo dependende \n",
    "\n",
    "# X = pd.DataFrame(dataset.iloc[:,:-1])\n",
    "\n",
    "# # Pegar o atributo dependente\n",
    "# y = pd.DataFrame(dataset.iloc[:,-1])\n",
    "\n",
    "# Pegar os atributos do database e Remover o atributo dependende \n",
    "\n",
    "\n",
    "\n",
    "# Pegar o atributo dependente\n",
    "y = pd.DataFrame(dataset[\"Sales\"])\n",
    "dataset = dataset.drop(\"Sales\", axis=1)\n",
    "dataset = pd.get_dummies(dataset)\n",
    "\n",
    "X = dataset\n",
    "\n",
    "\n"
   ]
  },
  {
   "cell_type": "code",
   "execution_count": 8,
   "metadata": {},
   "outputs": [
    {
     "data": {
      "text/plain": [
       "<Axes: >"
      ]
     },
     "execution_count": 8,
     "metadata": {},
     "output_type": "execute_result"
    },
    {
     "data": {
      "image/png": "[encoded data removed]",
      "text/plain": [
       "<Figure size 2400x1600 with 2 Axes>"
      ]
     },
     "metadata": {},
     "output_type": "display_data"
    }
   ],
   "source": [
    "#  Convertendo as labels em números\n",
    "#  Obs: Fazer isso para as que são do tipo Obj\n",
    "from sklearn.preprocessing import LabelEncoder\n",
    "\n",
    "df = pd.read_csv(\"Marketing_and_Sales.csv\")\n",
    "\n",
    "df_dummie = pd.get_dummies(df)\n",
    "\n",
    "#  Extraindo o dados a ser analizado (DEPEDENTE)\n",
    "\n",
    "y = df_dummie[\"Sales\"]\n",
    "df = df_dummie.drop(columns=[\"Sales\"], axis=1)\n",
    "\n",
    "# Plotando a Mariz Correlacional para ver a relação do DEPENDENTE\n",
    "\n",
    "# plt.figure(figsize=(24,16))\n",
    "# sn.heatmap(pd.concat([df,y],axis=1).corr(), annot=True, cmap=\"coolwarm\")"
   ]
  },
  {
   "cell_type": "code",
   "execution_count": 9,
   "metadata": {},
   "outputs": [
    {
     "data": {
      "text/html": [
       "<div>\n",
       "<style scoped>\n",
       "    .dataframe tbody tr th:only-of-type {\n",
       "        vertical-align: middle;\n",
       "    }\n",
       "\n",
       "    .dataframe tbody tr th {\n",
       "        vertical-align: top;\n",
       "    }\n",
       "\n",
       "    .dataframe thead th {\n",
       "        text-align: right;\n",
       "    }\n",
       "</style>\n",
       "<table border=\"1\" class=\"dataframe\">\n",
       "  <thead>\n",
       "    <tr style=\"text-align: right;\">\n",
       "      <th></th>\n",
       "      <th>TV</th>\n",
       "      <th>Radio</th>\n",
       "      <th>Social Media</th>\n",
       "      <th>Influencer_Macro</th>\n",
       "      <th>Influencer_Mega</th>\n",
       "      <th>Influencer_Micro</th>\n",
       "      <th>Influencer_Nano</th>\n",
       "    </tr>\n",
       "  </thead>\n",
       "  <tbody>\n",
       "    <tr>\n",
       "      <th>0</th>\n",
       "      <td>16.0</td>\n",
       "      <td>6.566231</td>\n",
       "      <td>2.907983</td>\n",
       "      <td>False</td>\n",
       "      <td>True</td>\n",
       "      <td>False</td>\n",
       "      <td>False</td>\n",
       "    </tr>\n",
       "    <tr>\n",
       "      <th>1</th>\n",
       "      <td>13.0</td>\n",
       "      <td>9.237765</td>\n",
       "      <td>2.409567</td>\n",
       "      <td>False</td>\n",
       "      <td>True</td>\n",
       "      <td>False</td>\n",
       "      <td>False</td>\n",
       "    </tr>\n",
       "    <tr>\n",
       "      <th>2</th>\n",
       "      <td>41.0</td>\n",
       "      <td>15.886446</td>\n",
       "      <td>2.913410</td>\n",
       "      <td>False</td>\n",
       "      <td>True</td>\n",
       "      <td>False</td>\n",
       "      <td>False</td>\n",
       "    </tr>\n",
       "    <tr>\n",
       "      <th>3</th>\n",
       "      <td>83.0</td>\n",
       "      <td>30.020028</td>\n",
       "      <td>6.922304</td>\n",
       "      <td>False</td>\n",
       "      <td>True</td>\n",
       "      <td>False</td>\n",
       "      <td>False</td>\n",
       "    </tr>\n",
       "    <tr>\n",
       "      <th>4</th>\n",
       "      <td>15.0</td>\n",
       "      <td>8.437408</td>\n",
       "      <td>1.405998</td>\n",
       "      <td>False</td>\n",
       "      <td>False</td>\n",
       "      <td>True</td>\n",
       "      <td>False</td>\n",
       "    </tr>\n",
       "    <tr>\n",
       "      <th>...</th>\n",
       "      <td>...</td>\n",
       "      <td>...</td>\n",
       "      <td>...</td>\n",
       "      <td>...</td>\n",
       "      <td>...</td>\n",
       "      <td>...</td>\n",
       "      <td>...</td>\n",
       "    </tr>\n",
       "    <tr>\n",
       "      <th>4567</th>\n",
       "      <td>26.0</td>\n",
       "      <td>4.472360</td>\n",
       "      <td>0.717090</td>\n",
       "      <td>False</td>\n",
       "      <td>False</td>\n",
       "      <td>True</td>\n",
       "      <td>False</td>\n",
       "    </tr>\n",
       "    <tr>\n",
       "      <th>4568</th>\n",
       "      <td>71.0</td>\n",
       "      <td>20.610685</td>\n",
       "      <td>6.545573</td>\n",
       "      <td>False</td>\n",
       "      <td>False</td>\n",
       "      <td>False</td>\n",
       "      <td>True</td>\n",
       "    </tr>\n",
       "    <tr>\n",
       "      <th>4569</th>\n",
       "      <td>44.0</td>\n",
       "      <td>19.800072</td>\n",
       "      <td>5.096192</td>\n",
       "      <td>False</td>\n",
       "      <td>False</td>\n",
       "      <td>True</td>\n",
       "      <td>False</td>\n",
       "    </tr>\n",
       "    <tr>\n",
       "      <th>4570</th>\n",
       "      <td>71.0</td>\n",
       "      <td>17.534640</td>\n",
       "      <td>1.940873</td>\n",
       "      <td>True</td>\n",
       "      <td>False</td>\n",
       "      <td>False</td>\n",
       "      <td>False</td>\n",
       "    </tr>\n",
       "    <tr>\n",
       "      <th>4571</th>\n",
       "      <td>42.0</td>\n",
       "      <td>15.966688</td>\n",
       "      <td>5.046548</td>\n",
       "      <td>False</td>\n",
       "      <td>False</td>\n",
       "      <td>True</td>\n",
       "      <td>False</td>\n",
       "    </tr>\n",
       "  </tbody>\n",
       "</table>\n",
       "<p>4572 rows × 7 columns</p>\n",
       "</div>"
      ],
      "text/plain": [
       "        TV      Radio  Social Media  Influencer_Macro  Influencer_Mega  \\\n",
       "0     16.0   6.566231      2.907983             False             True   \n",
       "1     13.0   9.237765      2.409567             False             True   \n",
       "2     41.0  15.886446      2.913410             False             True   \n",
       "3     83.0  30.020028      6.922304             False             True   \n",
       "4     15.0   8.437408      1.405998             False            False   \n",
       "...    ...        ...           ...               ...              ...   \n",
       "4567  26.0   4.472360      0.717090             False            False   \n",
       "4568  71.0  20.610685      6.545573             False            False   \n",
       "4569  44.0  19.800072      5.096192             False            False   \n",
       "4570  71.0  17.534640      1.940873              True            False   \n",
       "4571  42.0  15.966688      5.046548             False            False   \n",
       "\n",
       "      Influencer_Micro  Influencer_Nano  \n",
       "0                False            False  \n",
       "1                False            False  \n",
       "2                False            False  \n",
       "3                False            False  \n",
       "4                 True            False  \n",
       "...                ...              ...  \n",
       "4567              True            False  \n",
       "4568             False             True  \n",
       "4569              True            False  \n",
       "4570             False            False  \n",
       "4571              True            False  \n",
       "\n",
       "[4572 rows x 7 columns]"
      ]
     },
     "execution_count": 9,
     "metadata": {},
     "output_type": "execute_result"
    }
   ],
   "source": [
    "X"
   ]
  },
  {
   "cell_type": "code",
   "execution_count": 33,
   "metadata": {},
   "outputs": [
    {
     "data": {
      "text/plain": [
       "0        54.732757\n",
       "1        46.677897\n",
       "2       150.177829\n",
       "3       298.246340\n",
       "4        56.594181\n",
       "           ...    \n",
       "4567     94.685866\n",
       "4568    249.101915\n",
       "4569    163.631457\n",
       "4570    253.610411\n",
       "4571    148.202414\n",
       "Name: Sales, Length: 4572, dtype: float64"
      ]
     },
     "execution_count": 33,
     "metadata": {},
     "output_type": "execute_result"
    }
   ],
   "source": [
    "y"
   ]
  },
  {
   "cell_type": "code",
   "execution_count": 52,
   "metadata": {},
   "outputs": [
    {
     "data": {
      "text/plain": [
       "0"
      ]
     },
     "execution_count": 52,
     "metadata": {},
     "output_type": "execute_result"
    }
   ],
   "source": [
    "y.median(axis=0)\n",
    "y = y.fillna(y.median())\n",
    "y.isna().sum()"
   ]
  },
  {
   "cell_type": "code",
   "execution_count": 36,
   "metadata": {},
   "outputs": [],
   "source": [
    "# Fazendo um One Hot enconder da feature Influencer para os valores =[Nano, Micro, Macro e Mega]\n",
    "# from sklearn.compose import ColumnTransformer\n",
    "# from sklearn.preprocessing import OneHotEncoder\n",
    "\n",
    "# ct = ColumnTransformer(transformers=[('encoder', OneHotEncoder(), [3])], remainder='passthrough')\n",
    "# X = np.array(ct.fit_transform(X))\n",
    "# X = pd.DataFrame(X)\n"
   ]
  },
  {
   "cell_type": "markdown",
   "metadata": {},
   "source": [
    "# Treinamento do Modelo"
   ]
  },
  {
   "cell_type": "code",
   "execution_count": 53,
   "metadata": {},
   "outputs": [],
   "source": [
    "#  Analisar sobre a influencia do Marketing nos canais de Comunicação  na Vendas\n",
    "from sklearn.model_selection import train_test_split\n",
    "\n",
    "X_train,X_test,y_train,y_test = train_test_split(X, y, test_size=0.2, random_state=42)\n"
   ]
  },
  {
   "cell_type": "markdown",
   "metadata": {},
   "source": [
    "## Regressão Linear"
   ]
  },
  {
   "cell_type": "code",
   "execution_count": 65,
   "metadata": {},
   "outputs": [],
   "source": [
    "from sklearn.preprocessing import MaxAbsScaler\n",
    "\n",
    "scaler = MaxAbsScaler()\n",
    "X_train = scaler.fit_transform(X_train)\n",
    "X_test = scaler.transform(X_test)"
   ]
  },
  {
   "cell_type": "code",
   "execution_count": 66,
   "metadata": {},
   "outputs": [
    {
     "data": {
      "text/html": [
       "<style>#sk-container-id-4 {color: black;}#sk-container-id-4 pre{padding: 0;}#sk-container-id-4 div.sk-toggleable {background-color: white;}#sk-container-id-4 label.sk-toggleable__label {cursor: pointer;display: block;width: 100%;margin-bottom: 0;padding: 0.3em;box-sizing: border-box;text-align: center;}#sk-container-id-4 label.sk-toggleable__label-arrow:before {content: \"▸\";float: left;margin-right: 0.25em;color: #696969;}#sk-container-id-4 label.sk-toggleable__label-arrow:hover:before {color: black;}#sk-container-id-4 div.sk-estimator:hover label.sk-toggleable__label-arrow:before {color: black;}#sk-container-id-4 div.sk-toggleable__content {max-height: 0;max-width: 0;overflow: hidden;text-align: left;background-color: #f0f8ff;}#sk-container-id-4 div.sk-toggleable__content pre {margin: 0.2em;color: black;border-radius: 0.25em;background-color: #f0f8ff;}#sk-container-id-4 input.sk-toggleable__control:checked~div.sk-toggleable__content {max-height: 200px;max-width: 100%;overflow: auto;}#sk-container-id-4 input.sk-toggleable__control:checked~label.sk-toggleable__label-arrow:before {content: \"▾\";}#sk-container-id-4 div.sk-estimator input.sk-toggleable__control:checked~label.sk-toggleable__label {background-color: #d4ebff;}#sk-container-id-4 div.sk-label input.sk-toggleable__control:checked~label.sk-toggleable__label {background-color: #d4ebff;}#sk-container-id-4 input.sk-hidden--visually {border: 0;clip: rect(1px 1px 1px 1px);clip: rect(1px, 1px, 1px, 1px);height: 1px;margin: -1px;overflow: hidden;padding: 0;position: absolute;width: 1px;}#sk-container-id-4 div.sk-estimator {font-family: monospace;background-color: #f0f8ff;border: 1px dotted black;border-radius: 0.25em;box-sizing: border-box;margin-bottom: 0.5em;}#sk-container-id-4 div.sk-estimator:hover {background-color: #d4ebff;}#sk-container-id-4 div.sk-parallel-item::after {content: \"\";width: 100%;border-bottom: 1px solid gray;flex-grow: 1;}#sk-container-id-4 div.sk-label:hover label.sk-toggleable__label {background-color: #d4ebff;}#sk-container-id-4 div.sk-serial::before {content: \"\";position: absolute;border-left: 1px solid gray;box-sizing: border-box;top: 0;bottom: 0;left: 50%;z-index: 0;}#sk-container-id-4 div.sk-serial {display: flex;flex-direction: column;align-items: center;background-color: white;padding-right: 0.2em;padding-left: 0.2em;position: relative;}#sk-container-id-4 div.sk-item {position: relative;z-index: 1;}#sk-container-id-4 div.sk-parallel {display: flex;align-items: stretch;justify-content: center;background-color: white;position: relative;}#sk-container-id-4 div.sk-item::before, #sk-container-id-4 div.sk-parallel-item::before {content: \"\";position: absolute;border-left: 1px solid gray;box-sizing: border-box;top: 0;bottom: 0;left: 50%;z-index: -1;}#sk-container-id-4 div.sk-parallel-item {display: flex;flex-direction: column;z-index: 1;position: relative;background-color: white;}#sk-container-id-4 div.sk-parallel-item:first-child::after {align-self: flex-end;width: 50%;}#sk-container-id-4 div.sk-parallel-item:last-child::after {align-self: flex-start;width: 50%;}#sk-container-id-4 div.sk-parallel-item:only-child::after {width: 0;}#sk-container-id-4 div.sk-dashed-wrapped {border: 1px dashed gray;margin: 0 0.4em 0.5em 0.4em;box-sizing: border-box;padding-bottom: 0.4em;background-color: white;}#sk-container-id-4 div.sk-label label {font-family: monospace;font-weight: bold;display: inline-block;line-height: 1.2em;}#sk-container-id-4 div.sk-label-container {text-align: center;}#sk-container-id-4 div.sk-container {/* jupyter's `normalize.less` sets `[hidden] { display: none; }` but bootstrap.min.css set `[hidden] { display: none !important; }` so we also need the `!important` here to be able to override the default hidden behavior on the sphinx rendered scikit-learn.org. See: https://github.com/scikit-learn/scikit-learn/issues/21755 */display: inline-block !important;position: relative;}#sk-container-id-4 div.sk-text-repr-fallback {display: none;}</style><div id=\"sk-container-id-4\" class=\"sk-top-container\"><div class=\"sk-text-repr-fallback\"><pre>LinearRegression()</pre><b>In a Jupyter environment, please rerun this cell to show the HTML representation or trust the notebook. <br />On GitHub, the HTML representation is unable to render, please try loading this page with nbviewer.org.</b></div><div class=\"sk-container\" hidden><div class=\"sk-item\"><div class=\"sk-estimator sk-toggleable\"><input class=\"sk-toggleable__control sk-hidden--visually\" id=\"sk-estimator-id-4\" type=\"checkbox\" checked><label for=\"sk-estimator-id-4\" class=\"sk-toggleable__label sk-toggleable__label-arrow\">LinearRegression</label><div class=\"sk-toggleable__content\"><pre>LinearRegression()</pre></div></div></div></div></div>"
      ],
      "text/plain": [
       "LinearRegression()"
      ]
     },
     "execution_count": 66,
     "metadata": {},
     "output_type": "execute_result"
    }
   ],
   "source": [
    "from sklearn.linear_model import LinearRegression\n",
    "\n",
    "regressor = LinearRegression()\n",
    "regressor.fit(X_train, y_train)\n"
   ]
  },
  {
   "cell_type": "code",
   "execution_count": 67,
   "metadata": {},
   "outputs": [
    {
     "data": {
      "text/plain": [
       "array([ 91.78685894, 219.23217144, 103.72435894, 327.25560894,\n",
       "       353.51342144, 263.81029644, 352.94310894, 138.38842144,\n",
       "       263.84935894,  53.13060894, 133.60717144, 116.41967144,\n",
       "       313.13842144, 192.48217144, 155.88842144, 299.82592144,\n",
       "       248.26342144, 114.28685894, 299.58373394, 238.59935894,\n",
       "       187.82592144, 348.44310894, 114.56810894,  96.84935894,\n",
       "       159.66185894, 352.04467144,  59.04467144, 168.82592144,\n",
       "       227.54467144, 354.70092144, 256.09935894, 163.41967144,\n",
       "       347.23217144, 278.14623394,  65.40404644,  50.94310894,\n",
       "        82.16967144, 319.98217144, 120.51342144, 245.63060894,\n",
       "       273.57592144, 149.16185894, 154.74779644, 163.13842144,\n",
       "       337.51342144, 288.61498394, 242.81810894,  42.32592144,\n",
       "       270.13842144, 328.00560894, 150.03685894, 257.67748394,\n",
       "       221.53685894, 125.38842144, 216.66967144,  39.45873394,\n",
       "        75.89623394, 225.77904644, 241.54467144, 132.66967144,\n",
       "       192.70092144,  86.50560894,  85.47435894, 136.69310894,\n",
       "       151.06810894,  53.55248394,  71.93529644,  36.03685894,\n",
       "       166.54467144, 259.22435894, 273.91967144, 262.42748394,\n",
       "       352.98217144, 228.22435894,  84.85717144, 294.76342144,\n",
       "       292.20873394, 277.01342144, 289.24779644, 110.43529644,\n",
       "        96.13842144,  74.53685894,  77.32592144, 313.06810894,\n",
       "       127.70873394, 181.28685894, 142.77904644, 142.25560894,\n",
       "       130.72435894,  46.43529644, 288.72435894, 213.90404644,\n",
       "       317.56810894, 164.19310894, 110.69310894, 120.97435894,\n",
       "       353.16185894, 255.55248394, 107.51342144,  99.27904644,\n",
       "       117.76342144, 191.60717144, 153.66967144, 340.51342144,\n",
       "       210.22435894, 128.21654644, 345.03685894, 185.76342144,\n",
       "        46.31810894, 275.57592144, 241.31810894, 232.02904644,\n",
       "       135.59935894, 121.82592144, 114.95092144, 285.23217144,\n",
       "       131.10717144, 326.81810894, 302.54467144, 121.31810894,\n",
       "        71.16967144,  56.50560894, 267.03685894, 114.50560894,\n",
       "       167.59935894,  85.98217144, 266.96654644, 356.28685894,\n",
       "       199.78685894, 279.66967144, 201.63060894, 209.27904644,\n",
       "       302.25560894,  96.16185894, 237.51342144,  64.38060894,\n",
       "       236.18529644, 215.37279644, 182.63842144,  89.00560894,\n",
       "       178.66185894, 206.05248394, 173.66185894, 231.25560894,\n",
       "       306.91967144, 279.02123394,  81.03685894,  89.16185894,\n",
       "       315.70092144, 181.29467144, 145.52123394, 232.09154644,\n",
       "        36.34154644, 102.94310894, 218.57592144, 277.41185894,\n",
       "       168.34935894, 165.15404644, 227.78685894, 249.97435894,\n",
       "       215.25560894, 259.09154644, 351.81810894, 314.47435894,\n",
       "       213.16185894, 233.13842144, 220.91185894, 305.73217144,\n",
       "       266.48998394, 197.95092144,  44.22435894, 187.79467144,\n",
       "       221.04467144, 263.05248394, 223.25560894, 235.08373394,\n",
       "       200.63060894, 142.54467144, 224.20092144, 104.50560894,\n",
       "       124.47435894, 130.98217144, 247.13060894,  54.81810894,\n",
       "       330.75560894, 228.75560894,  71.25560894, 357.28685894,\n",
       "       314.00560894, 274.82592144,  95.19310894, 131.82592144,\n",
       "        40.98998394, 157.38060894, 114.38842144,  67.34935894,\n",
       "        90.86498394, 239.10717144, 248.57592144,  99.91185894,\n",
       "       215.11498394, 209.88060894, 217.48217144,  61.97435894,\n",
       "       181.23998394,  60.59935894, 242.68529644, 333.32592144,\n",
       "       321.42748394,  53.01342144, 234.66967144, 267.16967144,\n",
       "       304.84935894, 292.01342144, 334.13842144, 252.91967144,\n",
       "       184.91967144, 130.91967144, 111.09935894, 189.63842144,\n",
       "        90.67748394, 249.28685894, 354.88842144, 212.63060894,\n",
       "       325.81810894,  50.48217144, 139.09935894, 273.52123394,\n",
       "       214.22435894, 274.52904644, 128.28685894, 234.10717144,\n",
       "       190.84935894, 320.50560894,  60.54467144, 224.60717144,\n",
       "       110.10717144, 119.63060894,  85.41967144, 117.38842144,\n",
       "       124.03685894,  92.81029644,  57.06810894, 207.03685894,\n",
       "       164.01342144, 313.51342144, 220.06810894,  39.53685894,\n",
       "       135.12279644,  52.79467144, 323.22435894, 138.53685894,\n",
       "        56.75560894, 255.82592144, 133.88842144, 125.81029644,\n",
       "        91.63842144, 248.14623394,  46.19310894, 226.55248394,\n",
       "       153.09935894, 122.85717144, 356.39623394, 234.53685894,\n",
       "       143.48217144,  36.14623394, 134.88060894, 146.56029644,\n",
       "       148.84935894, 278.09935894, 157.56810894, 323.16967144,\n",
       "       228.37279644, 334.88060894,  89.45092144, 298.91185894,\n",
       "        85.16185894, 202.57592144,  47.38060894, 288.73217144,\n",
       "       202.57592144, 249.63842144,  68.02123394, 149.53685894,\n",
       "       256.22435894,  63.82592144, 178.13060894, 335.58373394,\n",
       "       210.44310894,  47.33373394, 153.56810894, 135.45092144,\n",
       "       313.70873394, 302.78685894, 174.13842144, 141.41185894,\n",
       "       148.66967144, 297.19310894, 271.59154644,  96.73217144,\n",
       "       212.97435894, 208.16967144, 126.09154644, 335.04467144,\n",
       "       294.24779644, 136.65404644, 209.34935894, 256.63060894,\n",
       "       133.66185894, 191.19310894, 339.35717144, 260.28685894,\n",
       "       249.38060894, 100.38060894, 273.54467144, 318.49779644,\n",
       "       153.50560894, 221.13842144, 309.42748394, 355.13060894,\n",
       "       118.54467144, 298.69310894, 248.50560894,  72.57592144,\n",
       "       277.16967144, 256.77904644, 214.16185894,  90.13842144,\n",
       "       173.56810894, 333.72435894, 117.24779644, 295.91967144,\n",
       "        71.42748394,  50.84935894, 222.16967144,  35.81810894,\n",
       "       249.42748394, 327.53685894, 242.60717144, 303.63842144,\n",
       "       122.09154644, 289.17748394, 246.24779644, 107.76342144,\n",
       "       302.43529644,  35.85717144,  35.57592144,  70.95873394,\n",
       "       150.27904644, 178.97435894, 281.73217144, 164.00560894,\n",
       "       296.31029644,  67.34935894, 352.03685894, 149.02904644,\n",
       "       327.32592144,  99.81810894,  79.41185894, 156.16967144,\n",
       "       352.84935894, 137.54467144,  71.97435894,  83.28685894,\n",
       "        64.88060894, 136.09935894,  85.66967144,  68.69310894,\n",
       "       160.35717144, 194.16185894, 148.91967144, 283.85717144,\n",
       "       259.84935894, 217.27123394, 118.76342144, 248.79467144,\n",
       "        52.82592144, 160.18529644, 262.32592144, 207.03685894,\n",
       "       274.04467144, 152.57592144, 238.56029644, 134.70092144,\n",
       "       263.66185894, 342.78685894, 312.72435894, 267.94310894,\n",
       "        88.98217144, 141.63842144,  43.39623394,  85.61498394,\n",
       "       149.88060894, 328.66185894, 327.63842144, 266.04467144,\n",
       "       230.91967144, 323.70092144, 263.11498394,  53.52123394,\n",
       "       256.78685894, 147.24779644, 207.11498394, 210.61498394,\n",
       "       356.40404644, 141.75560894, 160.59154644, 296.09935894,\n",
       "       285.55248394,  84.95092144, 294.94310894, 228.66967144,\n",
       "        81.88842144, 273.88842144, 334.72435894, 111.06810894,\n",
       "       145.51342144, 220.31810894, 252.41185894,  49.83373394,\n",
       "       114.03685894, 223.78685894,  74.20092144, 184.48217144,\n",
       "       120.81810894, 172.44310894, 322.79467144, 118.41185894,\n",
       "        99.92748394, 324.52904644, 262.97435894, 223.86498394,\n",
       "       267.13060894, 117.77123394,  81.47435894, 259.38060894,\n",
       "       283.88842144, 119.63842144, 235.11498394,  42.29467144,\n",
       "       226.76342144, 348.40404644, 266.97435894, 356.84154644,\n",
       "       212.32592144, 171.97435894, 241.97435894, 130.48217144,\n",
       "       216.56810894, 149.41185894, 274.04467144, 337.73217144,\n",
       "       100.45092144, 342.12279644,  46.66185894,  95.90404644,\n",
       "        89.50560894, 320.98217144, 273.10717144, 284.81810894,\n",
       "       245.88060894, 268.12279644, 271.07592144, 203.94310894,\n",
       "       313.31810894, 196.20092144, 206.48217144, 149.34935894,\n",
       "       107.38060894,  70.72435894,  96.48998394, 196.06810894,\n",
       "       338.46654644, 168.16185894, 249.47435894, 292.93529644,\n",
       "        43.72435894, 284.30248394, 346.00560894, 213.09935894,\n",
       "        49.73998394, 199.68529644, 312.53685894, 188.10717144,\n",
       "       170.45092144, 317.79467144, 302.76342144,  99.22435894,\n",
       "       305.63842144, 182.98217144, 335.20092144, 227.01342144,\n",
       "       121.08373394,  67.38842144, 146.59154644, 224.82592144,\n",
       "       262.78685894, 190.45092144, 191.78685894, 127.66185894,\n",
       "       299.69310894, 305.92748394, 238.63060894, 212.85717144,\n",
       "       182.53685894, 189.10717144, 155.65404644, 164.20873394,\n",
       "       309.63060894, 231.56810894,  79.41967144, 296.13842144,\n",
       "        42.78685894, 277.09935894, 198.97435894, 128.49779644,\n",
       "       249.02123394, 241.89623394, 210.51342144, 128.13060894,\n",
       "       163.72435894, 157.30248394, 195.11498394, 235.66967144,\n",
       "       153.31810894, 167.91185894,  52.60717144, 159.35717144,\n",
       "       285.95873394,  49.84154644, 102.72435894, 338.46654644,\n",
       "       283.50560894, 281.50560894,  90.06029644,  36.09935894,\n",
       "       295.35717144, 100.98998394,  89.86498394, 137.29467144,\n",
       "        67.31810894,  39.89623394, 185.53685894, 103.00560894,\n",
       "       147.98217144, 202.81029644, 217.72435894, 298.77904644,\n",
       "       151.88060894, 217.32592144, 175.59935894, 296.16967144,\n",
       "       163.78685894, 263.66967144, 112.41967144, 120.53685894,\n",
       "       339.39623394, 150.15404644, 271.30248394,  82.16185894,\n",
       "       295.40404644, 274.11498394, 270.32592144,  50.45873394,\n",
       "        86.17748394,  50.38842144,  57.09154644, 306.23998394,\n",
       "       232.06029644,  74.91185894, 120.97435894, 182.31029644,\n",
       "        49.59935894, 356.12279644,  45.91185894, 164.09935894,\n",
       "       148.84935894, 124.34935894, 198.16185894, 277.74779644,\n",
       "       348.16185894, 192.59935894, 281.87279644, 103.41185894,\n",
       "       278.12279644, 109.93529644,  73.82592144, 285.00560894,\n",
       "        72.16967144,  87.60717144, 117.20092144, 352.38842144,\n",
       "       117.06810894, 237.13842144,  36.41185894, 305.95873394,\n",
       "       306.03685894, 175.55248394, 221.19310894, 208.60717144,\n",
       "       233.54467144, 311.70092144,  82.53685894,  82.22435894,\n",
       "       324.95092144, 230.86498394,  42.96654644, 338.28685894,\n",
       "       116.79467144, 199.73998394, 174.70092144,  71.41185894,\n",
       "       142.41967144, 231.20092144,  68.94310894, 284.96654644,\n",
       "       264.70873394, 138.92748394, 210.30248394, 183.09935894,\n",
       "       221.28685894, 155.70092144,  46.56810894, 222.66185894,\n",
       "       284.98217144, 277.07592144,  56.48217144,  81.95092144,\n",
       "        82.37279644, 138.77123394, 191.59935894, 302.16185894,\n",
       "       349.52904644, 174.38060894, 136.53685894, 267.66967144,\n",
       "       166.81810894, 107.88060894, 284.06810894, 133.53685894,\n",
       "        96.58373394, 157.45873394, 200.20873394,  46.26342144,\n",
       "       274.64623394, 174.11498394, 102.66967144, 219.89623394,\n",
       "       321.41185894,  50.13060894, 195.24779644, 299.27123394,\n",
       "       157.32592144, 128.29467144, 327.38842144, 241.59935894,\n",
       "       342.38060894, 276.54467144, 153.47435894, 277.20092144,\n",
       "       110.71654644, 206.77904644,  81.81810894,  71.59935894,\n",
       "       113.51342144, 281.73998394, 145.84935894, 169.66185894,\n",
       "       216.66185894,  92.70092144, 305.00560894, 125.05248394,\n",
       "       142.38842144, 105.79467144, 316.38842144,  84.96654644,\n",
       "        53.34935894,  77.91185894, 106.38842144, 212.99779644,\n",
       "       142.66185894, 228.38842144, 223.97435894, 337.88060894,\n",
       "       313.13842144, 274.06810894, 224.39623394, 129.39623394,\n",
       "       158.54467144, 327.04467144, 111.92748394, 285.20092144,\n",
       "       173.85717144, 270.63842144, 206.43529644, 278.36498394,\n",
       "        61.30248394,  56.91185894,  39.02904644, 173.53685894,\n",
       "       159.32592144,  65.88060894, 202.44310894, 145.56029644,\n",
       "       223.79467144, 320.90404644, 121.48217144, 125.85717144,\n",
       "       277.83373394, 245.60717144,  49.97435894, 149.75560894,\n",
       "       120.29467144, 181.13842144, 174.00560894,  65.06810894,\n",
       "        82.33373394, 324.29467144, 113.72435894, 286.85717144,\n",
       "        60.73217144, 328.56810894, 134.01342144, 119.94310894,\n",
       "       195.78685894, 295.56810894, 171.72435894, 202.92748394,\n",
       "       238.23998394, 204.27123394, 255.47435894, 346.13842144,\n",
       "        84.48217144, 106.84935894, 192.41185894, 102.91967144,\n",
       "       196.22435894, 111.77904644, 178.15404644,  88.78685894,\n",
       "       352.91185894,  89.63060894, 277.09154644, 142.88842144,\n",
       "       189.77123394, 100.41185894, 298.01342144, 292.66967144,\n",
       "       203.69310894, 266.31810894, 114.13060894, 121.08373394,\n",
       "       168.65404644, 245.66185894, 127.79467144, 277.33373394,\n",
       "       131.89623394, 246.64623394, 103.53685894, 163.20092144,\n",
       "       345.90404644, 224.08373394, 166.45092144,  78.38842144,\n",
       "       125.93529644, 215.45092144, 285.06810894, 304.45092144,\n",
       "        86.75560894, 108.60717144,  52.88060894, 103.98998394,\n",
       "       178.20092144, 274.34935894, 185.56029644,  55.18529644,\n",
       "        35.20092144, 217.03685894, 163.45873394,  81.44310894,\n",
       "       356.26342144, 131.35717144,  82.35717144, 254.98217144,\n",
       "       257.14623394,  46.19310894, 134.75560894, 158.91967144,\n",
       "       352.01342144, 345.52123394, 228.03685894, 210.88842144,\n",
       "       196.48217144, 207.20092144,  51.31810894, 205.48217144,\n",
       "       103.84154644, 337.85717144, 296.96654644, 320.03685894,\n",
       "       330.73217144, 219.20092144, 119.53685894, 352.04467144,\n",
       "        39.22435894, 356.04467144, 217.02904644,  68.16185894,\n",
       "        38.72435894, 227.63060894, 313.44310894,  50.31810894,\n",
       "       302.70092144, 338.98998394, 334.78685894, 114.46654644,\n",
       "       103.77904644,  54.13842144, 331.38842144, 266.19310894,\n",
       "       138.88060894, 153.48217144, 135.84935894,  39.20873394,\n",
       "       231.41185894, 109.60717144, 162.85717144, 159.43529644,\n",
       "       117.31810894, 145.53685894, 161.51342144,  61.97435894,\n",
       "       189.05248394,  92.10717144, 142.23217144, 142.32592144,\n",
       "       138.19310894,  89.06029644,  74.00560894, 181.63060894,\n",
       "       235.63060894, 270.31810894, 134.20092144, 156.66185894,\n",
       "       171.37279644, 292.34154644, 223.13842144, 312.60717144,\n",
       "       110.28685894, 302.69310894, 108.03685894, 301.85717144,\n",
       "       243.25560894,  53.44310894, 175.01342144, 129.47435894,\n",
       "        74.85717144, 207.19310894, 288.18529644,  56.44310894,\n",
       "       102.57592144, 110.43529644, 218.07592144, 348.82592144,\n",
       "       141.84154644,  64.01342144,  71.47435894, 202.50560894,\n",
       "       157.68529644, 351.34935894, 104.97435894, 356.70873394,\n",
       "       345.00560894, 115.36498394, 174.23998394,  78.08373394,\n",
       "       122.12279644,  44.00560894, 340.48217144, 213.77904644,\n",
       "       163.09154644, 271.83373394, 219.59935894, 279.82592144,\n",
       "        99.13060894, 235.04467144,  64.51342144, 333.54467144,\n",
       "       340.56810894,  53.63842144, 344.03685894, 295.23217144,\n",
       "       294.80248394, 270.13060894, 173.01342144, 113.74779644,\n",
       "       340.91967144, 204.06029644, 100.00560894, 353.63842144,\n",
       "       170.48217144, 141.11498394,  42.78685894,  75.16185894,\n",
       "       105.57592144,  53.59154644, 138.73998394, 231.73998394,\n",
       "        54.39623394, 336.44310894, 241.16967144, 125.20092144,\n",
       "       249.78685894, 248.16185894, 253.38060894])"
      ]
     },
     "execution_count": 67,
     "metadata": {},
     "output_type": "execute_result"
    }
   ],
   "source": [
    "# Os valores previstos 20% de dados\n",
    "y_pred = regressor.predict(X_test)\n",
    "\n",
    "y_pred"
   ]
  },
  {
   "cell_type": "code",
   "execution_count": 68,
   "metadata": {},
   "outputs": [
    {
     "data": {
      "text/plain": [
       "538      90.054222\n",
       "1822    222.741668\n",
       "534     102.774790\n",
       "2119    328.239378\n",
       "561     351.807328\n",
       "           ...    \n",
       "744     244.865923\n",
       "733     130.478749\n",
       "2647    251.403637\n",
       "4149    253.172404\n",
       "3819    250.151755\n",
       "Name: Sales, Length: 915, dtype: float64"
      ]
     },
     "execution_count": 68,
     "metadata": {},
     "output_type": "execute_result"
    }
   ],
   "source": [
    "y_test"
   ]
  },
  {
   "cell_type": "code",
   "execution_count": 69,
   "metadata": {},
   "outputs": [
    {
     "name": "stdout",
     "output_type": "stream",
     "text": [
      "R2: 0.992102885606643\n",
      "MAE: 2.8707296464054872 \n",
      "MSE: 65.91031340499629 \n"
     ]
    }
   ],
   "source": [
    "from sklearn import metrics\n",
    "\n",
    "print(f\"R2: {metrics.r2_score(y_test, y_pred)}\")\n",
    "print(f\"MAE: {metrics.mean_absolute_error(y_test, y_pred)} \")\n",
    "print(f\"MSE: {metrics.mean_squared_error(y_test, y_pred)} \")"
   ]
  },
  {
   "cell_type": "markdown",
   "metadata": {},
   "source": [
    "# Gradiente\n"
   ]
  },
  {
   "cell_type": "code",
   "execution_count": 61,
   "metadata": {},
   "outputs": [],
   "source": [
    "from sklearn.preprocessing import MaxAbsScaler\n",
    "\n",
    "scaler = MaxAbsScaler()\n",
    "X_train = scaler.fit_transform(X_train)\n",
    "X_test = scaler.transform(X_test)"
   ]
  },
  {
   "cell_type": "code",
   "execution_count": 62,
   "metadata": {},
   "outputs": [
    {
     "data": {
      "text/html": [
       "<style>#sk-container-id-3 {color: black;}#sk-container-id-3 pre{padding: 0;}#sk-container-id-3 div.sk-toggleable {background-color: white;}#sk-container-id-3 label.sk-toggleable__label {cursor: pointer;display: block;width: 100%;margin-bottom: 0;padding: 0.3em;box-sizing: border-box;text-align: center;}#sk-container-id-3 label.sk-toggleable__label-arrow:before {content: \"▸\";float: left;margin-right: 0.25em;color: #696969;}#sk-container-id-3 label.sk-toggleable__label-arrow:hover:before {color: black;}#sk-container-id-3 div.sk-estimator:hover label.sk-toggleable__label-arrow:before {color: black;}#sk-container-id-3 div.sk-toggleable__content {max-height: 0;max-width: 0;overflow: hidden;text-align: left;background-color: #f0f8ff;}#sk-container-id-3 div.sk-toggleable__content pre {margin: 0.2em;color: black;border-radius: 0.25em;background-color: #f0f8ff;}#sk-container-id-3 input.sk-toggleable__control:checked~div.sk-toggleable__content {max-height: 200px;max-width: 100%;overflow: auto;}#sk-container-id-3 input.sk-toggleable__control:checked~label.sk-toggleable__label-arrow:before {content: \"▾\";}#sk-container-id-3 div.sk-estimator input.sk-toggleable__control:checked~label.sk-toggleable__label {background-color: #d4ebff;}#sk-container-id-3 div.sk-label input.sk-toggleable__control:checked~label.sk-toggleable__label {background-color: #d4ebff;}#sk-container-id-3 input.sk-hidden--visually {border: 0;clip: rect(1px 1px 1px 1px);clip: rect(1px, 1px, 1px, 1px);height: 1px;margin: -1px;overflow: hidden;padding: 0;position: absolute;width: 1px;}#sk-container-id-3 div.sk-estimator {font-family: monospace;background-color: #f0f8ff;border: 1px dotted black;border-radius: 0.25em;box-sizing: border-box;margin-bottom: 0.5em;}#sk-container-id-3 div.sk-estimator:hover {background-color: #d4ebff;}#sk-container-id-3 div.sk-parallel-item::after {content: \"\";width: 100%;border-bottom: 1px solid gray;flex-grow: 1;}#sk-container-id-3 div.sk-label:hover label.sk-toggleable__label {background-color: #d4ebff;}#sk-container-id-3 div.sk-serial::before {content: \"\";position: absolute;border-left: 1px solid gray;box-sizing: border-box;top: 0;bottom: 0;left: 50%;z-index: 0;}#sk-container-id-3 div.sk-serial {display: flex;flex-direction: column;align-items: center;background-color: white;padding-right: 0.2em;padding-left: 0.2em;position: relative;}#sk-container-id-3 div.sk-item {position: relative;z-index: 1;}#sk-container-id-3 div.sk-parallel {display: flex;align-items: stretch;justify-content: center;background-color: white;position: relative;}#sk-container-id-3 div.sk-item::before, #sk-container-id-3 div.sk-parallel-item::before {content: \"\";position: absolute;border-left: 1px solid gray;box-sizing: border-box;top: 0;bottom: 0;left: 50%;z-index: -1;}#sk-container-id-3 div.sk-parallel-item {display: flex;flex-direction: column;z-index: 1;position: relative;background-color: white;}#sk-container-id-3 div.sk-parallel-item:first-child::after {align-self: flex-end;width: 50%;}#sk-container-id-3 div.sk-parallel-item:last-child::after {align-self: flex-start;width: 50%;}#sk-container-id-3 div.sk-parallel-item:only-child::after {width: 0;}#sk-container-id-3 div.sk-dashed-wrapped {border: 1px dashed gray;margin: 0 0.4em 0.5em 0.4em;box-sizing: border-box;padding-bottom: 0.4em;background-color: white;}#sk-container-id-3 div.sk-label label {font-family: monospace;font-weight: bold;display: inline-block;line-height: 1.2em;}#sk-container-id-3 div.sk-label-container {text-align: center;}#sk-container-id-3 div.sk-container {/* jupyter's `normalize.less` sets `[hidden] { display: none; }` but bootstrap.min.css set `[hidden] { display: none !important; }` so we also need the `!important` here to be able to override the default hidden behavior on the sphinx rendered scikit-learn.org. See: https://github.com/scikit-learn/scikit-learn/issues/21755 */display: inline-block !important;position: relative;}#sk-container-id-3 div.sk-text-repr-fallback {display: none;}</style><div id=\"sk-container-id-3\" class=\"sk-top-container\"><div class=\"sk-text-repr-fallback\"><pre>SGDRegressor(random_state=42)</pre><b>In a Jupyter environment, please rerun this cell to show the HTML representation or trust the notebook. <br />On GitHub, the HTML representation is unable to render, please try loading this page with nbviewer.org.</b></div><div class=\"sk-container\" hidden><div class=\"sk-item\"><div class=\"sk-estimator sk-toggleable\"><input class=\"sk-toggleable__control sk-hidden--visually\" id=\"sk-estimator-id-3\" type=\"checkbox\" checked><label for=\"sk-estimator-id-3\" class=\"sk-toggleable__label sk-toggleable__label-arrow\">SGDRegressor</label><div class=\"sk-toggleable__content\"><pre>SGDRegressor(random_state=42)</pre></div></div></div></div></div>"
      ],
      "text/plain": [
       "SGDRegressor(random_state=42)"
      ]
     },
     "execution_count": 62,
     "metadata": {},
     "output_type": "execute_result"
    }
   ],
   "source": [
    "from sklearn.linear_model import SGDRegressor\n",
    "\n",
    "#APlicando o Gradiente e usando hiper parametros\n",
    "sgd_regressor = SGDRegressor(max_iter=1000, alpha=0.0001, random_state=42)\n",
    "sgd_regressor.fit(X_train, y_train)"
   ]
  },
  {
   "cell_type": "code",
   "execution_count": 63,
   "metadata": {},
   "outputs": [
    {
     "name": "stdout",
     "output_type": "stream",
     "text": [
      "R2: 0.9921079624283945\n",
      "MSE: 65.86794160992294 \n"
     ]
    }
   ],
   "source": [
    "from sklearn.metrics import mean_squared_error, r2_score\n",
    "\n",
    "y_pred = sgd_regressor.predict(X_test)\n",
    "\n",
    "mse = mean_squared_error(y_test, y_pred)\n",
    "r2 = r2_score(y_test, y_pred)\n",
    "\n",
    "\n",
    "print(f\"R2: {r2}\")\n",
    "print(f\"MSE: {mse} \")"
   ]
  }
 ],
 "metadata": {
  "kernelspec": {
   "display_name": "venv",
   "language": "python",
   "name": "python3"
  },
  "language_info": {
   "codemirror_mode": {
    "name": "ipython",
    "version": 3
   },
   "file_extension": ".py",
   "mimetype": "text/x-python",
   "name": "python",
   "nbconvert_exporter": "python",
   "pygments_lexer": "ipython3",
   "version": "3.11.4"
  },
  "orig_nbformat": 4
 },
 "nbformat": 4,
 "nbformat_minor": 2
}
