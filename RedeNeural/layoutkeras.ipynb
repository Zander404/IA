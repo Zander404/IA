{
 "cells": [
  {
   "cell_type": "code",
   "execution_count": 1,
   "metadata": {},
   "outputs": [],
   "source": [
    "from tensorflow import keras\n",
    "import tensorflow as tf"
   ]
  },
  {
   "cell_type": "code",
   "execution_count": null,
   "metadata": {},
   "outputs": [],
   "source": []
  },
  {
   "cell_type": "code",
   "execution_count": 2,
   "metadata": {},
   "outputs": [],
   "source": [
    "# Importar os datasets \n",
    "\n",
    "fashion_mnist = keras.datasets.fashion_mnist\n",
    "(X_train_full, y_train_full), (X_test, y_test) = fashion_mnist.load_data()"
   ]
  },
  {
   "cell_type": "code",
   "execution_count": 3,
   "metadata": {},
   "outputs": [
    {
     "name": "stdout",
     "output_type": "stream",
     "text": [
      "(60000, 28, 28)\n",
      "uint8\n"
     ]
    }
   ],
   "source": [
    "print(X_train_full.shape)\n",
    "print(X_train_full.dtype) # Scikit-Learn would've given us a collection of floats"
   ]
  },
  {
   "cell_type": "code",
   "execution_count": 4,
   "metadata": {},
   "outputs": [],
   "source": [
    "X_valid, X_train = X_train_full[:5000]/255.0, X_train_full[5000:]/255.0\n",
    "y_valid, y_train = y_train_full[:5000], y_train_full[5000:]"
   ]
  },
  {
   "cell_type": "code",
   "execution_count": 5,
   "metadata": {},
   "outputs": [
    {
     "data": {
      "text/plain": [
       "'Coat'"
      ]
     },
     "execution_count": 5,
     "metadata": {},
     "output_type": "execute_result"
    }
   ],
   "source": [
    "class_names = ['T-shirt/top', 'Trouser', 'Pullover', 'Dress', 'Coat', 'Sandal', 'Shirt', 'Sneaker', 'Bag', 'Ankle boot']\n",
    "class_names[y_train[0]]\n",
    "'Coat'"
   ]
  },
  {
   "cell_type": "code",
   "execution_count": 6,
   "metadata": {},
   "outputs": [
    {
     "data": {
      "text/plain": [
       "<matplotlib.image.AxesImage at 0x1fb9d385a50>"
      ]
     },
     "execution_count": 6,
     "metadata": {},
     "output_type": "execute_result"
    },
    {
     "data": {
      "image/png": "[encoded data removed]",
      "text/plain": [
       "<Figure size 640x480 with 1 Axes>"
      ]
     },
     "metadata": {},
     "output_type": "display_data"
    }
   ],
   "source": [
    "import matplotlib.pyplot as plt\n",
    "%matplotlib inline\n",
    "img = X_test[0]\n",
    "plt.imshow(img)"
   ]
  },
  {
   "cell_type": "markdown",
   "metadata": {},
   "source": [
    "# Modelo MLP (Multi Layer Perceptron)"
   ]
  },
  {
   "cell_type": "code",
   "execution_count": 7,
   "metadata": {},
   "outputs": [],
   "source": [
    "# INPUT LAYER = shape de 28x28 para transformar em um vetor de 1 dimesão\n",
    "# HIDDEN LAYER 1 = hidden layers com 300 neuronios, com função de ativação RELU\n",
    "# HIDDEN LAYER 2 = hidden layers com 100 neuronios, com função de ativação RELU\n",
    "# OUT LAYER = função de ativação SOFTMAX\n",
    "\n",
    "model = keras.models.Sequential([\n",
    "    keras.layers.Flatten(input_shape=[28,28]),\n",
    "    keras.layers.Dense(300, kernel_initializer=\"glorot_uniform\", kernel_regularizer='l2',activation='relu'),\n",
    "    keras.layers.Dense(100, kernel_initializer=\"glorot_uniform\",kernel_regularizer='l2', activation='relu'),\n",
    "    keras.layers.BatchNormalization(synchronized=True),\n",
    "    keras.layers.Dense(10, activation='softmax', kernel_regularizer='l2'),\n",
    "])"
   ]
  },
  {
   "cell_type": "code",
   "execution_count": 8,
   "metadata": {},
   "outputs": [
    {
     "name": "stdout",
     "output_type": "stream",
     "text": [
      "Model: \"sequential\"\n",
      "_________________________________________________________________\n",
      " Layer (type)                Output Shape              Param #   \n",
      "=================================================================\n",
      " flatten (Flatten)           (None, 784)               0         \n",
      "                                                                 \n",
      " dense (Dense)               (None, 300)               235500    \n",
      "                                                                 \n",
      " dense_1 (Dense)             (None, 100)               30100     \n",
      "                                                                 \n",
      " batch_normalization (Batch  (None, 100)               400       \n",
      " Normalization)                                                  \n",
      "                                                                 \n",
      " dense_2 (Dense)             (None, 10)                1010      \n",
      "                                                                 \n",
      "=================================================================\n",
      "Total params: 267010 (1.02 MB)\n",
      "Trainable params: 266810 (1.02 MB)\n",
      "Non-trainable params: 200 (800.00 Byte)\n",
      "_________________________________________________________________\n"
     ]
    }
   ],
   "source": [
    "# Informações sobre o Modelo Criado\n",
    "model.summary()"
   ]
  },
  {
   "cell_type": "code",
   "execution_count": 9,
   "metadata": {},
   "outputs": [
    {
     "data": {
      "text/plain": [
       "[<keras.src.layers.reshaping.flatten.Flatten at 0x1fb9d4309d0>,\n",
       " <keras.src.layers.core.dense.Dense at 0x1fb9d41b190>,\n",
       " <keras.src.layers.core.dense.Dense at 0x1fb9d4495d0>,\n",
       " <keras.src.layers.normalization.batch_normalization.BatchNormalization at 0x1fb9d3453d0>,\n",
       " <keras.src.layers.core.dense.Dense at 0x1fb9d418310>]"
      ]
     },
     "execution_count": 9,
     "metadata": {},
     "output_type": "execute_result"
    }
   ],
   "source": [
    "# As camadas dos modelo\n",
    "model.layers"
   ]
  },
  {
   "cell_type": "code",
   "execution_count": 10,
   "metadata": {},
   "outputs": [],
   "source": [
    "hidden1 = model.layers[1]\n",
    "hidden1.name\n",
    "layer1 = model.get_layer(hidden1.name)\n",
    "weights,biases = hidden1.get_weights()"
   ]
  },
  {
   "cell_type": "code",
   "execution_count": 11,
   "metadata": {},
   "outputs": [
    {
     "data": {
      "text/plain": [
       "<keras.src.layers.core.dense.Dense at 0x1fb9d41b190>"
      ]
     },
     "execution_count": 11,
     "metadata": {},
     "output_type": "execute_result"
    }
   ],
   "source": [
    "# Primeira HIDENN LAYER\n",
    "layer1"
   ]
  },
  {
   "cell_type": "code",
   "execution_count": 12,
   "metadata": {},
   "outputs": [
    {
     "data": {
      "text/plain": [
       "array([[ 0.04951347,  0.06156699,  0.03808694, ..., -0.07096963,\n",
       "        -0.02639105,  0.00260794],\n",
       "       [ 0.01122852, -0.00424597, -0.02197745, ..., -0.0542842 ,\n",
       "        -0.02255788,  0.01149855],\n",
       "       [ 0.02648661, -0.04984415,  0.07326168, ..., -0.03198591,\n",
       "         0.02487729, -0.00052971],\n",
       "       ...,\n",
       "       [-0.01332381,  0.03837591,  0.03503829, ...,  0.034436  ,\n",
       "         0.06865835, -0.01259506],\n",
       "       [-0.07072829,  0.00182971,  0.0623087 , ..., -0.05515288,\n",
       "        -0.0476424 ,  0.06672949],\n",
       "       [ 0.00442977,  0.04948856,  0.05726022, ..., -0.032349  ,\n",
       "        -0.06091984, -0.02853224]], dtype=float32)"
      ]
     },
     "execution_count": 12,
     "metadata": {},
     "output_type": "execute_result"
    }
   ],
   "source": [
    "# Pesos da Primeira HIDDEN LAYER \n",
    "weights"
   ]
  },
  {
   "cell_type": "code",
   "execution_count": 13,
   "metadata": {},
   "outputs": [],
   "source": [
    "model.compile(loss='sparse_categorical_crossentropy',\n",
    "              optimizer='sgd',\n",
    "              metrics=['accuracy'])"
   ]
  },
  {
   "cell_type": "code",
   "execution_count": 14,
   "metadata": {},
   "outputs": [
    {
     "name": "stdout",
     "output_type": "stream",
     "text": [
      "Epoch 1/30\n",
      "1719/1719 [==============================] - 21s 9ms/step - loss: 27.7044 - val_loss: 27.5892\n",
      "Epoch 2/30\n",
      "1719/1719 [==============================] - 18s 10ms/step - loss: 27.6120 - val_loss: 27.5892\n",
      "Epoch 3/30\n",
      "1719/1719 [==============================] - 17s 10ms/step - loss: 27.6120 - val_loss: 27.5892\n",
      "Epoch 4/30\n",
      "1719/1719 [==============================] - 17s 10ms/step - loss: 27.6120 - val_loss: 27.5892\n",
      "Epoch 5/30\n",
      "1719/1719 [==============================] - 17s 10ms/step - loss: 27.6120 - val_loss: 27.5892\n",
      "Epoch 6/30\n",
      "1719/1719 [==============================] - 16s 9ms/step - loss: 27.6120 - val_loss: 27.5892\n",
      "Epoch 7/30\n",
      "1719/1719 [==============================] - 20s 12ms/step - loss: 27.6120 - val_loss: 27.5892\n",
      "Epoch 8/30\n",
      "1719/1719 [==============================] - 15s 9ms/step - loss: 27.6120 - val_loss: 27.5892\n",
      "Epoch 9/30\n",
      "1719/1719 [==============================] - 17s 10ms/step - loss: 27.6120 - val_loss: 27.5892\n",
      "Epoch 10/30\n",
      "1719/1719 [==============================] - 18s 11ms/step - loss: 27.6120 - val_loss: 27.5892\n",
      "Epoch 11/30\n",
      "1719/1719 [==============================] - 22s 13ms/step - loss: 27.6120 - val_loss: 27.5892\n",
      "Epoch 12/30\n",
      "1719/1719 [==============================] - 17s 10ms/step - loss: 27.6120 - val_loss: 27.5892\n",
      "Epoch 13/30\n",
      "1719/1719 [==============================] - 19s 11ms/step - loss: 27.6120 - val_loss: 27.5892\n",
      "Epoch 14/30\n",
      "1719/1719 [==============================] - 21s 12ms/step - loss: 27.6120 - val_loss: 27.5892\n",
      "Epoch 15/30\n",
      "1719/1719 [==============================] - 20s 11ms/step - loss: 27.6120 - val_loss: 27.5892\n",
      "Epoch 16/30\n",
      "1719/1719 [==============================] - 20s 11ms/step - loss: 27.6120 - val_loss: 27.5892\n",
      "Epoch 17/30\n",
      "1719/1719 [==============================] - 19s 11ms/step - loss: 27.6120 - val_loss: 27.5892\n",
      "Epoch 18/30\n",
      "1719/1719 [==============================] - 16s 9ms/step - loss: 27.6120 - val_loss: 27.5892\n",
      "Epoch 19/30\n",
      "1719/1719 [==============================] - 16s 9ms/step - loss: 27.6120 - val_loss: 27.5892\n",
      "Epoch 20/30\n",
      "1719/1719 [==============================] - 16s 9ms/step - loss: 27.6120 - val_loss: 27.5892\n",
      "Epoch 21/30\n",
      "1719/1719 [==============================] - 16s 9ms/step - loss: 27.6120 - val_loss: 27.5892\n",
      "Epoch 22/30\n",
      "1719/1719 [==============================] - 15s 9ms/step - loss: 27.6120 - val_loss: 27.5892\n",
      "Epoch 23/30\n",
      "1719/1719 [==============================] - 16s 10ms/step - loss: 27.6120 - val_loss: 27.5892\n",
      "Epoch 24/30\n",
      "1719/1719 [==============================] - 16s 9ms/step - loss: 27.6120 - val_loss: 27.5892\n",
      "Epoch 25/30\n",
      "1719/1719 [==============================] - 15s 9ms/step - loss: 27.6120 - val_loss: 27.5892\n",
      "Epoch 26/30\n",
      "1719/1719 [==============================] - 17s 10ms/step - loss: 27.6120 - val_loss: 27.5892\n",
      "Epoch 27/30\n",
      "1719/1719 [==============================] - 16s 9ms/step - loss: 27.6120 - val_loss: 27.5892\n",
      "Epoch 28/30\n",
      "1719/1719 [==============================] - 17s 10ms/step - loss: 27.6120 - val_loss: 27.5892\n",
      "Epoch 29/30\n",
      "1719/1719 [==============================] - 19s 11ms/step - loss: 27.6120 - val_loss: 27.5892\n",
      "Epoch 30/30\n",
      "1719/1719 [==============================] - 18s 10ms/step - loss: 27.6120 - val_loss: 27.5892\n"
     ]
    }
   ],
   "source": [
    "history = model.fit(X_train, y_train, epochs=30, validation_data=(X_valid, y_valid))"
   ]
  },
  {
   "cell_type": "code",
   "execution_count": 15,
   "metadata": {},
   "outputs": [
    {
     "data": {
      "image/png": "[encoded data removed]",
      "text/plain": [
       "<Figure size 800x500 with 1 Axes>"
      ]
     },
     "metadata": {},
     "output_type": "display_data"
    }
   ],
   "source": [
    "import pandas as pd\n",
    "import numpy as np\n",
    "pd.DataFrame(history.history).plot(figsize=(8,5))\n",
    "plt.grid(True)\n",
    "plt.gca().set_ylim(0,1) # set the vertical range to [0-1]\n",
    "plt.show()"
   ]
  },
  {
   "cell_type": "code",
   "execution_count": 16,
   "metadata": {},
   "outputs": [
    {
     "name": "stdout",
     "output_type": "stream",
     "text": [
      "1/1 [==============================] - 0s 322ms/step\n"
     ]
    },
    {
     "data": {
      "text/plain": [
       "array([[0.1, 0.1, 0.1, 0.1, 0.1, 0.1, 0.1, 0.1, 0.1, 0.1],\n",
       "       [0.1, 0.1, 0.1, 0.1, 0.1, 0.1, 0.1, 0.1, 0.1, 0.1],\n",
       "       [0.1, 0.1, 0.1, 0.1, 0.1, 0.1, 0.1, 0.1, 0.1, 0.1],\n",
       "       [0.1, 0.1, 0.1, 0.1, 0.1, 0.1, 0.1, 0.1, 0.1, 0.1],\n",
       "       [0.1, 0.1, 0.1, 0.1, 0.1, 0.1, 0.1, 0.1, 0.1, 0.1]], dtype=float32)"
      ]
     },
     "execution_count": 16,
     "metadata": {},
     "output_type": "execute_result"
    }
   ],
   "source": [
    "X_new = X_test[:5]\n",
    "y_preds = model.predict(X_new)\n",
    "y_preds.round(2)"
   ]
  },
  {
   "cell_type": "code",
   "execution_count": 17,
   "metadata": {},
   "outputs": [
    {
     "name": "stdout",
     "output_type": "stream",
     "text": [
      "1/1 [==============================] - 0s 63ms/step\n"
     ]
    }
   ],
   "source": [
    "y_pred = np.argmax(model.predict(X_new), axis=-1)\n",
    "#y_pred = model.predict_classes(X_new) removed this line because "
   ]
  },
  {
   "cell_type": "code",
   "execution_count": 18,
   "metadata": {},
   "outputs": [
    {
     "data": {
      "text/plain": [
       "array([9, 9, 9, 9, 9], dtype=int64)"
      ]
     },
     "execution_count": 18,
     "metadata": {},
     "output_type": "execute_result"
    }
   ],
   "source": [
    "y_pred"
   ]
  },
  {
   "cell_type": "code",
   "execution_count": 19,
   "metadata": {},
   "outputs": [],
   "source": [
    "# FAZER K-FOLD"
   ]
  },
  {
   "cell_type": "code",
   "execution_count": 20,
   "metadata": {},
   "outputs": [
    {
     "data": {
      "text/plain": [
       "array(['Ankle boot', 'Ankle boot', 'Ankle boot', 'Ankle boot',\n",
       "       'Ankle boot'], dtype='<U11')"
      ]
     },
     "execution_count": 20,
     "metadata": {},
     "output_type": "execute_result"
    }
   ],
   "source": [
    "np.array(class_names)[y_pred]"
   ]
  },
  {
   "cell_type": "code",
   "execution_count": 21,
   "metadata": {},
   "outputs": [
    {
     "data": {
      "text/plain": [
       "['T-shirt/top',\n",
       " 'Trouser',\n",
       " 'Pullover',\n",
       " 'Dress',\n",
       " 'Coat',\n",
       " 'Sandal',\n",
       " 'Shirt',\n",
       " 'Sneaker',\n",
       " 'Bag',\n",
       " 'Ankle boot']"
      ]
     },
     "execution_count": 21,
     "metadata": {},
     "output_type": "execute_result"
    }
   ],
   "source": [
    "class_names\n",
    "['T-shirt/top',\n",
    " 'Trouser',\n",
    " 'Pullover',\n",
    " 'Dress',\n",
    " 'Coat',\n",
    " 'Sandal',\n",
    " 'Shirt',\n",
    " 'Sneaker',\n",
    " 'Bag',\n",
    " 'Ankle boot']"
   ]
  },
  {
   "cell_type": "code",
   "execution_count": 22,
   "metadata": {},
   "outputs": [
    {
     "data": {
      "text/plain": [
       "<matplotlib.image.AxesImage at 0x1fba0197f10>"
      ]
     },
     "execution_count": 22,
     "metadata": {},
     "output_type": "execute_result"
    },
    {
     "data": {
      "image/png": "[encoded data removed]",
      "text/plain": [
       "<Figure size 640x480 with 1 Axes>"
      ]
     },
     "metadata": {},
     "output_type": "display_data"
    }
   ],
   "source": [
    "img1 = X_test[9]\n",
    "plt.imshow(img1)"
   ]
  },
  {
   "cell_type": "code",
   "execution_count": 23,
   "metadata": {},
   "outputs": [
    {
     "data": {
      "text/plain": [
       "<matplotlib.image.AxesImage at 0x1fba01f8150>"
      ]
     },
     "execution_count": 23,
     "metadata": {},
     "output_type": "execute_result"
    },
    {
     "data": {
      "image/png": "[encoded data removed]",
      "text/plain": [
       "<Figure size 640x480 with 1 Axes>"
      ]
     },
     "metadata": {},
     "output_type": "display_data"
    }
   ],
   "source": [
    "img2 = X_test[1]\n",
    "plt.imshow(img2)"
   ]
  },
  {
   "cell_type": "code",
   "execution_count": 24,
   "metadata": {},
   "outputs": [
    {
     "data": {
      "text/plain": [
       "<matplotlib.image.AxesImage at 0x1fb9f989e90>"
      ]
     },
     "execution_count": 24,
     "metadata": {},
     "output_type": "execute_result"
    },
    {
     "data": {
      "image/png": "[encoded data removed]",
      "text/plain": [
       "<Figure size 640x480 with 1 Axes>"
      ]
     },
     "metadata": {},
     "output_type": "display_data"
    }
   ],
   "source": [
    "img3 = X_test[2]\n",
    "plt.imshow(img3)"
   ]
  }
 ],
 "metadata": {
  "kernelspec": {
   "display_name": "venv",
   "language": "python",
   "name": "python3"
  },
  "language_info": {
   "codemirror_mode": {
    "name": "ipython",
    "version": 3
   },
   "file_extension": ".py",
   "mimetype": "text/x-python",
   "name": "python",
   "nbconvert_exporter": "python",
   "pygments_lexer": "ipython3",
   "version": "3.11.4"
  }
 },
 "nbformat": 4,
 "nbformat_minor": 2
}
