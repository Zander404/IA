{
 "cells": [
  {
   "cell_type": "code",
   "execution_count": 8,
   "metadata": {},
   "outputs": [],
   "source": [
    "from tensorflow import keras\n",
    "import tensorflow as tf"
   ]
  },
  {
   "cell_type": "code",
   "execution_count": 2,
   "metadata": {},
   "outputs": [],
   "source": [
    "# Importar os datasets \n",
    "\n",
    "fashion_mnist = keras.datasets.fashion_mnist\n",
    "(X_train_full, y_train_full), (X_test, y_test) = fashion_mnist.load_data()"
   ]
  },
  {
   "cell_type": "code",
   "execution_count": 3,
   "metadata": {},
   "outputs": [
    {
     "name": "stdout",
     "output_type": "stream",
     "text": [
      "(60000, 28, 28)\n",
      "uint8\n"
     ]
    },
    {
     "data": {
      "text/plain": [
       "(60000, 28, 28)"
      ]
     },
     "execution_count": 3,
     "metadata": {},
     "output_type": "execute_result"
    }
   ],
   "source": [
    "print(X_train_full.shape)\n",
    "print(X_train_full.dtype) # Scikit-Learn would've given us a collection of floats\n",
    "(60000, 28, 28)\n"
   ]
  },
  {
   "cell_type": "code",
   "execution_count": 4,
   "metadata": {},
   "outputs": [],
   "source": [
    "X_valid, X_train = X_train_full[:5000]/255.0, X_train_full[5000:]/255.0\n",
    "y_valid, y_train = y_train_full[:5000], y_train_full[5000:]"
   ]
  },
  {
   "cell_type": "code",
   "execution_count": 5,
   "metadata": {},
   "outputs": [
    {
     "data": {
      "text/plain": [
       "'Coat'"
      ]
     },
     "execution_count": 5,
     "metadata": {},
     "output_type": "execute_result"
    }
   ],
   "source": [
    "class_names = ['T-shirt/top', 'Trouser', 'Pullover', 'Dress', 'Coat', 'Sandal', 'Shirt', 'Sneaker', 'Bag', 'Ankle boot']\n",
    "class_names[y_train[0]]\n",
    "'Coat'"
   ]
  },
  {
   "cell_type": "code",
   "execution_count": 6,
   "metadata": {},
   "outputs": [
    {
     "data": {
      "text/plain": [
       "<matplotlib.image.AxesImage at 0x1b5a71568d0>"
      ]
     },
     "execution_count": 6,
     "metadata": {},
     "output_type": "execute_result"
    },
    {
     "data": {
      "image/png": "[encoded data removed]",
      "text/plain": [
       "<Figure size 640x480 with 1 Axes>"
      ]
     },
     "metadata": {},
     "output_type": "display_data"
    }
   ],
   "source": [
    "import matplotlib.pyplot as plt\n",
    "%matplotlib inline\n",
    "img = X_test[0]\n",
    "plt.imshow(img)"
   ]
  },
  {
   "cell_type": "markdown",
   "metadata": {},
   "source": [
    "# Modelo MLP (Multi Layer Perceptron)"
   ]
  },
  {
   "cell_type": "code",
   "execution_count": 107,
   "metadata": {},
   "outputs": [
    {
     "ename": "ModuleNotFoundError",
     "evalue": "No module named 'keras_tuner'",
     "output_type": "error",
     "traceback": [
      "\u001b[1;31m---------------------------------------------------------------------------\u001b[0m",
      "\u001b[1;31mModuleNotFoundError\u001b[0m                       Traceback (most recent call last)",
      "\u001b[1;32mc:\\Users\\alexa\\Downloads\\Dados_Pratica_04_Portarias\\RedeNeural\\layoutkeras.ipynb Cell 8\u001b[0m line \u001b[0;36m6\n\u001b[0;32m      <a href='vscode-notebook-cell:/c%3A/Users/alexa/Downloads/Dados_Pratica_04_Portarias/RedeNeural/layoutkeras.ipynb#X10sZmlsZQ%3D%3D?line=0'>1</a>\u001b[0m \u001b[39m# INPUT LAYER = shape de 28x28 para transformar em um vetor de 1 dimesão\u001b[39;00m\n\u001b[0;32m      <a href='vscode-notebook-cell:/c%3A/Users/alexa/Downloads/Dados_Pratica_04_Portarias/RedeNeural/layoutkeras.ipynb#X10sZmlsZQ%3D%3D?line=1'>2</a>\u001b[0m \u001b[39m# HIDDEN LAYER 1 = hidden layers com 300 neuronios, com função de ativação RELU\u001b[39;00m\n\u001b[0;32m      <a href='vscode-notebook-cell:/c%3A/Users/alexa/Downloads/Dados_Pratica_04_Portarias/RedeNeural/layoutkeras.ipynb#X10sZmlsZQ%3D%3D?line=2'>3</a>\u001b[0m \u001b[39m# HIDDEN LAYER 2 = hidden layers com 100 neuronios, com função de ativação RELU\u001b[39;00m\n\u001b[0;32m      <a href='vscode-notebook-cell:/c%3A/Users/alexa/Downloads/Dados_Pratica_04_Portarias/RedeNeural/layoutkeras.ipynb#X10sZmlsZQ%3D%3D?line=3'>4</a>\u001b[0m \u001b[39m# OUT LAYER = função de ativação SOFTMAX\u001b[39;00m\n\u001b[1;32m----> <a href='vscode-notebook-cell:/c%3A/Users/alexa/Downloads/Dados_Pratica_04_Portarias/RedeNeural/layoutkeras.ipynb#X10sZmlsZQ%3D%3D?line=5'>6</a>\u001b[0m \u001b[39mimport\u001b[39;00m \u001b[39mkeras_tuner\u001b[39;00m\n\u001b[0;32m      <a href='vscode-notebook-cell:/c%3A/Users/alexa/Downloads/Dados_Pratica_04_Portarias/RedeNeural/layoutkeras.ipynb#X10sZmlsZQ%3D%3D?line=8'>9</a>\u001b[0m model \u001b[39m=\u001b[39m keras\u001b[39m.\u001b[39mmodels\u001b[39m.\u001b[39mSequential([\n\u001b[0;32m     <a href='vscode-notebook-cell:/c%3A/Users/alexa/Downloads/Dados_Pratica_04_Portarias/RedeNeural/layoutkeras.ipynb#X10sZmlsZQ%3D%3D?line=9'>10</a>\u001b[0m     keras\u001b[39m.\u001b[39mlayers\u001b[39m.\u001b[39mFlatten(input_shape\u001b[39m=\u001b[39m[\u001b[39m28\u001b[39m,\u001b[39m28\u001b[39m]),\n\u001b[0;32m     <a href='vscode-notebook-cell:/c%3A/Users/alexa/Downloads/Dados_Pratica_04_Portarias/RedeNeural/layoutkeras.ipynb#X10sZmlsZQ%3D%3D?line=10'>11</a>\u001b[0m     keras\u001b[39m.\u001b[39mlayers\u001b[39m.\u001b[39mDense(\u001b[39m300\u001b[39m, kernel_initializer\u001b[39m=\u001b[39m\u001b[39m\"\u001b[39m\u001b[39mglorot_uniform\u001b[39m\u001b[39m\"\u001b[39m, kernel_regularizer\u001b[39m=\u001b[39m\u001b[39m'\u001b[39m\u001b[39ml2\u001b[39m\u001b[39m'\u001b[39m,activation\u001b[39m=\u001b[39m\u001b[39m'\u001b[39m\u001b[39mrelu\u001b[39m\u001b[39m'\u001b[39m),\n\u001b[1;32m   (...)\u001b[0m\n\u001b[0;32m     <a href='vscode-notebook-cell:/c%3A/Users/alexa/Downloads/Dados_Pratica_04_Portarias/RedeNeural/layoutkeras.ipynb#X10sZmlsZQ%3D%3D?line=13'>14</a>\u001b[0m     keras\u001b[39m.\u001b[39mlayers\u001b[39m.\u001b[39mDense(\u001b[39m10\u001b[39m, activation\u001b[39m=\u001b[39m\u001b[39m'\u001b[39m\u001b[39msoftmax\u001b[39m\u001b[39m'\u001b[39m, kernel_regularizer\u001b[39m=\u001b[39m\u001b[39m'\u001b[39m\u001b[39ml2\u001b[39m\u001b[39m'\u001b[39m),\n\u001b[0;32m     <a href='vscode-notebook-cell:/c%3A/Users/alexa/Downloads/Dados_Pratica_04_Portarias/RedeNeural/layoutkeras.ipynb#X10sZmlsZQ%3D%3D?line=14'>15</a>\u001b[0m ])\n\u001b[0;32m     <a href='vscode-notebook-cell:/c%3A/Users/alexa/Downloads/Dados_Pratica_04_Portarias/RedeNeural/layoutkeras.ipynb#X10sZmlsZQ%3D%3D?line=16'>17</a>\u001b[0m tf\u001b[39m.\u001b[39mkeras_tuner\u001b[39m.\u001b[39mSklearnTuner\n",
      "\u001b[1;31mModuleNotFoundError\u001b[0m: No module named 'keras_tuner'"
     ]
    }
   ],
   "source": [
    "# INPUT LAYER = shape de 28x28 para transformar em um vetor de 1 dimesão\n",
    "# HIDDEN LAYER 1 = hidden layers com 300 neuronios, com função de ativação RELU\n",
    "# HIDDEN LAYER 2 = hidden layers com 100 neuronios, com função de ativação RELU\n",
    "# OUT LAYER = função de ativação SOFTMAX\n",
    "\n",
    "model = keras.models.Sequential([\n",
    "    keras.layers.Flatten(input_shape=[28,28]),\n",
    "    keras.layers.Dense(300, kernel_initializer=\"glorot_uniform\", kernel_regularizer='l2',activation='relu'),\n",
    "    keras.layers.Dense(100, kernel_initializer=\"glorot_uniform\",kernel_regularizer='l2', activation='relu'),\n",
    "    keras.layers.BatchNormalization(synchronized=True),\n",
    "    keras.layers.Dense(10, activation='softmax', kernel_regularizer='l2'),\n",
    "])"
   ]
  },
  {
   "cell_type": "code",
   "execution_count": 91,
   "metadata": {},
   "outputs": [
    {
     "name": "stdout",
     "output_type": "stream",
     "text": [
      "Model: \"sequential_10\"\n",
      "_________________________________________________________________\n",
      " Layer (type)                Output Shape              Param #   \n",
      "=================================================================\n",
      " flatten_13 (Flatten)        (None, 784)               0         \n",
      "                                                                 \n",
      " dense_36 (Dense)            (None, 300)               235500    \n",
      "                                                                 \n",
      " dense_37 (Dense)            (None, 100)               30100     \n",
      "                                                                 \n",
      " batch_normalization_8 (Bat  (None, 100)               400       \n",
      " chNormalization)                                                \n",
      "                                                                 \n",
      " dense_38 (Dense)            (None, 10)                1010      \n",
      "                                                                 \n",
      "=================================================================\n",
      "Total params: 267010 (1.02 MB)\n",
      "Trainable params: 266810 (1.02 MB)\n",
      "Non-trainable params: 200 (800.00 Byte)\n",
      "_________________________________________________________________\n"
     ]
    }
   ],
   "source": [
    "# Informações sobre o Modelo Criado\n",
    "model.summary()"
   ]
  },
  {
   "cell_type": "code",
   "execution_count": 92,
   "metadata": {},
   "outputs": [
    {
     "data": {
      "text/plain": [
       "[<keras.src.layers.reshaping.flatten.Flatten at 0x1b5b9e21590>,\n",
       " <keras.src.layers.core.dense.Dense at 0x1b5be7fe350>,\n",
       " <keras.src.layers.core.dense.Dense at 0x1b5d4f00290>,\n",
       " <keras.src.layers.normalization.batch_normalization.BatchNormalization at 0x1b5be7e6a10>,\n",
       " <keras.src.layers.core.dense.Dense at 0x1b5bdb11d10>]"
      ]
     },
     "execution_count": 92,
     "metadata": {},
     "output_type": "execute_result"
    }
   ],
   "source": [
    "# As camadas dos modelo\n",
    "model.layers"
   ]
  },
  {
   "cell_type": "code",
   "execution_count": 93,
   "metadata": {},
   "outputs": [],
   "source": [
    "hidden1 = model.layers[1]\n",
    "hidden1.name\n",
    "layer1 = model.get_layer(hidden1.name)\n",
    "weights,biases = hidden1.get_weights()"
   ]
  },
  {
   "cell_type": "code",
   "execution_count": 94,
   "metadata": {},
   "outputs": [
    {
     "data": {
      "text/plain": [
       "<keras.src.layers.core.dense.Dense at 0x1b5be7fe350>"
      ]
     },
     "execution_count": 94,
     "metadata": {},
     "output_type": "execute_result"
    }
   ],
   "source": [
    "# Primeira HIDENN LAYER\n",
    "layer1"
   ]
  },
  {
   "cell_type": "code",
   "execution_count": 95,
   "metadata": {},
   "outputs": [
    {
     "data": {
      "text/plain": [
       "array([[ 0.07275046, -0.06976359, -0.07051472, ...,  0.01400813,\n",
       "        -0.0560419 , -0.01831643],\n",
       "       [ 0.06043662,  0.03716347, -0.00201324, ...,  0.06290057,\n",
       "         0.00315191,  0.05380239],\n",
       "       [-0.05741216, -0.06888752, -0.07338473, ...,  0.01151398,\n",
       "         0.02658447,  0.03582741],\n",
       "       ...,\n",
       "       [-0.0186612 ,  0.06107765,  0.0020455 , ...,  0.02702907,\n",
       "        -0.01048708,  0.07162686],\n",
       "       [ 0.00888444, -0.03348864, -0.06730311, ...,  0.06495389,\n",
       "         0.00779095,  0.07278402],\n",
       "       [ 0.03900689, -0.01871113,  0.03826375, ..., -0.0424734 ,\n",
       "        -0.02169955,  0.03695346]], dtype=float32)"
      ]
     },
     "execution_count": 95,
     "metadata": {},
     "output_type": "execute_result"
    }
   ],
   "source": [
    "# Pesos da Primeira HIDDEN LAYER \n",
    "weights"
   ]
  },
  {
   "cell_type": "code",
   "execution_count": 96,
   "metadata": {},
   "outputs": [],
   "source": [
    "model.compile(loss='sparse_categorical_crossentropy',\n",
    "              optimizer='sgd',\n",
    "              metrics=['accuracy'])"
   ]
  },
  {
   "cell_type": "code",
   "execution_count": 97,
   "metadata": {},
   "outputs": [
    {
     "name": "stdout",
     "output_type": "stream",
     "text": [
      "Epoch 1/30\n",
      "1719/1719 [==============================] - 7s 4ms/step - loss: 4.7745 - accuracy: 0.8171 - val_loss: 3.4074 - val_accuracy: 0.8398\n",
      "Epoch 2/30\n",
      "1719/1719 [==============================] - 7s 4ms/step - loss: 2.5674 - accuracy: 0.8535 - val_loss: 1.9173 - val_accuracy: 0.8578\n",
      "Epoch 3/30\n",
      "1719/1719 [==============================] - 6s 4ms/step - loss: 1.5024 - accuracy: 0.8605 - val_loss: 1.2591 - val_accuracy: 0.8290\n",
      "Epoch 4/30\n",
      "1719/1719 [==============================] - 6s 4ms/step - loss: 0.9686 - accuracy: 0.8666 - val_loss: 0.9264 - val_accuracy: 0.8464\n",
      "Epoch 5/30\n",
      "1719/1719 [==============================] - 7s 4ms/step - loss: 0.7029 - accuracy: 0.8691 - val_loss: 0.7233 - val_accuracy: 0.8310\n",
      "Epoch 6/30\n",
      "1719/1719 [==============================] - 8s 4ms/step - loss: 0.5695 - accuracy: 0.8702 - val_loss: 0.5790 - val_accuracy: 0.8586\n",
      "Epoch 7/30\n",
      "1719/1719 [==============================] - 8s 5ms/step - loss: 0.5013 - accuracy: 0.8727 - val_loss: 0.5105 - val_accuracy: 0.8584\n",
      "Epoch 8/30\n",
      "1719/1719 [==============================] - 8s 4ms/step - loss: 0.4660 - accuracy: 0.8733 - val_loss: 0.5331 - val_accuracy: 0.8462\n",
      "Epoch 9/30\n",
      "1719/1719 [==============================] - 7s 4ms/step - loss: 0.4492 - accuracy: 0.8728 - val_loss: 0.4596 - val_accuracy: 0.8656\n",
      "Epoch 10/30\n",
      "1719/1719 [==============================] - 7s 4ms/step - loss: 0.4411 - accuracy: 0.8752 - val_loss: 0.4953 - val_accuracy: 0.8470\n",
      "Epoch 11/30\n",
      "1719/1719 [==============================] - 7s 4ms/step - loss: 0.4333 - accuracy: 0.8758 - val_loss: 0.4466 - val_accuracy: 0.8778\n",
      "Epoch 12/30\n",
      "1719/1719 [==============================] - 7s 4ms/step - loss: 0.4314 - accuracy: 0.8751 - val_loss: 0.4269 - val_accuracy: 0.8722\n",
      "Epoch 13/30\n",
      "1719/1719 [==============================] - 7s 4ms/step - loss: 0.4313 - accuracy: 0.8761 - val_loss: 0.4336 - val_accuracy: 0.8750\n",
      "Epoch 14/30\n",
      "1719/1719 [==============================] - 7s 4ms/step - loss: 0.4283 - accuracy: 0.8754 - val_loss: 0.4255 - val_accuracy: 0.8762\n",
      "Epoch 15/30\n",
      "1719/1719 [==============================] - 8s 4ms/step - loss: 0.4285 - accuracy: 0.8748 - val_loss: 0.4522 - val_accuracy: 0.8682\n",
      "Epoch 16/30\n",
      "1719/1719 [==============================] - 10s 6ms/step - loss: 0.4262 - accuracy: 0.8772 - val_loss: 0.4758 - val_accuracy: 0.8612\n",
      "Epoch 17/30\n",
      "1719/1719 [==============================] - 11s 6ms/step - loss: 0.4257 - accuracy: 0.8771 - val_loss: 0.4496 - val_accuracy: 0.8712\n",
      "Epoch 18/30\n",
      "1719/1719 [==============================] - 10s 6ms/step - loss: 0.4263 - accuracy: 0.8764 - val_loss: 0.4563 - val_accuracy: 0.8672\n",
      "Epoch 19/30\n",
      "1719/1719 [==============================] - 10s 6ms/step - loss: 0.4258 - accuracy: 0.8759 - val_loss: 0.4659 - val_accuracy: 0.8658\n",
      "Epoch 20/30\n",
      "1719/1719 [==============================] - 11s 6ms/step - loss: 0.4255 - accuracy: 0.8777 - val_loss: 0.4846 - val_accuracy: 0.8514\n",
      "Epoch 21/30\n",
      "1719/1719 [==============================] - 10s 6ms/step - loss: 0.4257 - accuracy: 0.8768 - val_loss: 0.4484 - val_accuracy: 0.8708\n",
      "Epoch 22/30\n",
      "1719/1719 [==============================] - 10s 6ms/step - loss: 0.4256 - accuracy: 0.8769 - val_loss: 0.5278 - val_accuracy: 0.8474\n",
      "Epoch 23/30\n",
      "1719/1719 [==============================] - 10s 6ms/step - loss: 0.4274 - accuracy: 0.8771 - val_loss: 0.4733 - val_accuracy: 0.8604\n",
      "Epoch 24/30\n",
      "1719/1719 [==============================] - 10s 6ms/step - loss: 0.4258 - accuracy: 0.8774 - val_loss: 0.4671 - val_accuracy: 0.8652\n",
      "Epoch 25/30\n",
      "1719/1719 [==============================] - 10s 6ms/step - loss: 0.4258 - accuracy: 0.8780 - val_loss: 0.4409 - val_accuracy: 0.8788\n",
      "Epoch 26/30\n",
      "1719/1719 [==============================] - 10s 6ms/step - loss: 0.4254 - accuracy: 0.8784 - val_loss: 0.5639 - val_accuracy: 0.8362\n",
      "Epoch 27/30\n",
      "1719/1719 [==============================] - 10s 6ms/step - loss: 0.4258 - accuracy: 0.8768 - val_loss: 0.4879 - val_accuracy: 0.8546\n",
      "Epoch 28/30\n",
      "1719/1719 [==============================] - 10s 6ms/step - loss: 0.4239 - accuracy: 0.8782 - val_loss: 0.8016 - val_accuracy: 0.7720\n",
      "Epoch 29/30\n",
      "1719/1719 [==============================] - 10s 6ms/step - loss: 0.4258 - accuracy: 0.8762 - val_loss: 0.4526 - val_accuracy: 0.8704\n",
      "Epoch 30/30\n",
      "1719/1719 [==============================] - 11s 6ms/step - loss: 0.4231 - accuracy: 0.8789 - val_loss: 0.4620 - val_accuracy: 0.8722\n"
     ]
    }
   ],
   "source": [
    "history = model.fit(X_train, y_train, epochs=30, validation_data=(X_valid, y_valid))"
   ]
  },
  {
   "cell_type": "code",
   "execution_count": 98,
   "metadata": {},
   "outputs": [
    {
     "data": {
      "image/png": "[encoded data removed]",
      "text/plain": [
       "<Figure size 800x500 with 1 Axes>"
      ]
     },
     "metadata": {},
     "output_type": "display_data"
    }
   ],
   "source": [
    "import pandas as pd\n",
    "import numpy as np\n",
    "pd.DataFrame(history.history).plot(figsize=(8,5))\n",
    "plt.grid(True)\n",
    "plt.gca().set_ylim(0,1) # set the vertical range to [0-1]\n",
    "plt.show()"
   ]
  },
  {
   "cell_type": "code",
   "execution_count": 99,
   "metadata": {},
   "outputs": [
    {
     "name": "stdout",
     "output_type": "stream",
     "text": [
      "1/1 [==============================] - 0s 176ms/step\n"
     ]
    },
    {
     "data": {
      "text/plain": [
       "array([[0., 0., 0., 0., 0., 0., 0., 0., 0., 1.],\n",
       "       [0., 0., 1., 0., 0., 0., 0., 0., 0., 0.],\n",
       "       [0., 1., 0., 0., 0., 0., 0., 0., 0., 0.],\n",
       "       [0., 1., 0., 0., 0., 0., 0., 0., 0., 0.],\n",
       "       [0., 0., 0., 0., 0., 0., 1., 0., 0., 0.]], dtype=float32)"
      ]
     },
     "execution_count": 99,
     "metadata": {},
     "output_type": "execute_result"
    }
   ],
   "source": [
    "X_new = X_test[:5]\n",
    "y_preds = model.predict(X_new)\n",
    "y_preds.round(2)"
   ]
  },
  {
   "cell_type": "code",
   "execution_count": 100,
   "metadata": {},
   "outputs": [
    {
     "name": "stdout",
     "output_type": "stream",
     "text": [
      "1/1 [==============================] - 0s 56ms/step\n"
     ]
    }
   ],
   "source": [
    "y_pred = np.argmax(model.predict(X_new), axis=-1)\n",
    "#y_pred = model.predict_classes(X_new) removed this line because "
   ]
  },
  {
   "cell_type": "code",
   "execution_count": 101,
   "metadata": {},
   "outputs": [
    {
     "data": {
      "text/plain": [
       "array([9, 2, 1, 1, 6], dtype=int64)"
      ]
     },
     "execution_count": 101,
     "metadata": {},
     "output_type": "execute_result"
    }
   ],
   "source": [
    "y_pred"
   ]
  },
  {
   "cell_type": "code",
   "execution_count": null,
   "metadata": {},
   "outputs": [],
   "source": [
    "# FAZER K-FOLD"
   ]
  },
  {
   "cell_type": "code",
   "execution_count": 102,
   "metadata": {},
   "outputs": [
    {
     "data": {
      "text/plain": [
       "array(['Ankle boot', 'Pullover', 'Trouser', 'Trouser', 'Shirt'],\n",
       "      dtype='<U11')"
      ]
     },
     "execution_count": 102,
     "metadata": {},
     "output_type": "execute_result"
    }
   ],
   "source": [
    "np.array(class_names)[y_pred]"
   ]
  },
  {
   "cell_type": "code",
   "execution_count": 103,
   "metadata": {},
   "outputs": [
    {
     "data": {
      "text/plain": [
       "['T-shirt/top',\n",
       " 'Trouser',\n",
       " 'Pullover',\n",
       " 'Dress',\n",
       " 'Coat',\n",
       " 'Sandal',\n",
       " 'Shirt',\n",
       " 'Sneaker',\n",
       " 'Bag',\n",
       " 'Ankle boot']"
      ]
     },
     "execution_count": 103,
     "metadata": {},
     "output_type": "execute_result"
    }
   ],
   "source": [
    "class_names\n",
    "['T-shirt/top',\n",
    " 'Trouser',\n",
    " 'Pullover',\n",
    " 'Dress',\n",
    " 'Coat',\n",
    " 'Sandal',\n",
    " 'Shirt',\n",
    " 'Sneaker',\n",
    " 'Bag',\n",
    " 'Ankle boot']"
   ]
  },
  {
   "cell_type": "code",
   "execution_count": 104,
   "metadata": {},
   "outputs": [
    {
     "data": {
      "text/plain": [
       "<matplotlib.image.AxesImage at 0x1b5d8bfec10>"
      ]
     },
     "execution_count": 104,
     "metadata": {},
     "output_type": "execute_result"
    },
    {
     "data": {
      "image/png": "[encoded data removed]",
      "text/plain": [
       "<Figure size 640x480 with 1 Axes>"
      ]
     },
     "metadata": {},
     "output_type": "display_data"
    }
   ],
   "source": [
    "img1 = X_test[9]\n",
    "plt.imshow(img1)"
   ]
  },
  {
   "cell_type": "code",
   "execution_count": 105,
   "metadata": {},
   "outputs": [
    {
     "data": {
      "text/plain": [
       "<matplotlib.image.AxesImage at 0x1b5d8b99810>"
      ]
     },
     "execution_count": 105,
     "metadata": {},
     "output_type": "execute_result"
    },
    {
     "data": {
      "image/png": "[encoded data removed]",
      "text/plain": [
       "<Figure size 640x480 with 1 Axes>"
      ]
     },
     "metadata": {},
     "output_type": "display_data"
    }
   ],
   "source": [
    "img2 = X_test[1]\n",
    "plt.imshow(img2)"
   ]
  },
  {
   "cell_type": "code",
   "execution_count": 106,
   "metadata": {},
   "outputs": [
    {
     "data": {
      "text/plain": [
       "<matplotlib.image.AxesImage at 0x1b5d8c68710>"
      ]
     },
     "execution_count": 106,
     "metadata": {},
     "output_type": "execute_result"
    },
    {
     "data": {
      "image/png": "[encoded data removed]",
      "text/plain": [
       "<Figure size 640x480 with 1 Axes>"
      ]
     },
     "metadata": {},
     "output_type": "display_data"
    }
   ],
   "source": [
    "img3 = X_test[2]\n",
    "plt.imshow(img3)"
   ]
  }
 ],
 "metadata": {
  "kernelspec": {
   "display_name": "venv",
   "language": "python",
   "name": "python3"
  },
  "language_info": {
   "codemirror_mode": {
    "name": "ipython",
    "version": 3
   },
   "file_extension": ".py",
   "mimetype": "text/x-python",
   "name": "python",
   "nbconvert_exporter": "python",
   "pygments_lexer": "ipython3",
   "version": "3.11.4"
  }
 },
 "nbformat": 4,
 "nbformat_minor": 2
}
